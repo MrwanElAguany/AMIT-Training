{
 "cells": [
  {
   "cell_type": "code",
   "execution_count": 4,
   "id": "58ec82a4",
   "metadata": {},
   "outputs": [
    {
     "name": "stdout",
     "output_type": "stream",
     "text": [
      "Enter two values with a comma in between \n",
      "6,9\n",
      "15\n"
     ]
    }
   ],
   "source": [
    "# adds two numbers with one input operation  \n",
    "\n",
    "x, y = input(\"Enter two values with a comma in between fow multipcation \\n\").split(',')\n",
    "    \n",
    "    # convert from string to intger\n",
    "    \n",
    "    x = int(x)\n",
    "\n",
    "    y= int(y)\n",
    "    \n",
    "    # sum operation\n",
    "    \n",
    "    z= x + y\n",
    "\n",
    "print('The sum is :', z )\n"
   ]
  },
  {
   "cell_type": "code",
   "execution_count": null,
   "id": "0e3e0748",
   "metadata": {},
   "outputs": [],
   "source": []
  }
 ],
 "metadata": {
  "kernelspec": {
   "display_name": "Python 3 (ipykernel)",
   "language": "python",
   "name": "python3"
  },
  "language_info": {
   "codemirror_mode": {
    "name": "ipython",
    "version": 3
   },
   "file_extension": ".py",
   "mimetype": "text/x-python",
   "name": "python",
   "nbconvert_exporter": "python",
   "pygments_lexer": "ipython3",
   "version": "3.9.12"
  }
 },
 "nbformat": 4,
 "nbformat_minor": 5
}
