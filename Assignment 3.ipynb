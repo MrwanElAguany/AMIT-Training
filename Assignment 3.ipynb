{
 "cells": [
  {
   "cell_type": "markdown",
   "metadata": {},
   "source": [
    "# Assignment 3"
   ]
  },
  {
   "cell_type": "markdown",
   "metadata": {},
   "source": [
    "### Write a function to count the number 4 in a given list."
   ]
  },
  {
   "cell_type": "code",
   "execution_count": null,
   "metadata": {},
   "outputs": [],
   "source": [
    "def count4(liste): # defining the function\n",
    "    counter = 0   # declaring a counter and seting it to 0\n",
    "    for i in liste: # for loop to loop in list\n",
    "        if liste[i] == 4: # condition to find 4\n",
    "            counter =counter+1 # adds a 1 to counter\n",
    "    return counter # returns finale count\n",
    "# example to test function\n",
    "x=[1,3,5,4,8,4,6,7,4,6] #example list\n",
    "print(count4(x)) # printing answer"
   ]
  },
  {
   "cell_type": "markdown",
   "metadata": {},
   "source": [
    "### write a  function to check whether a number is divisible by another number."
   ]
  },
  {
   "cell_type": "code",
   "execution_count": null,
   "metadata": {},
   "outputs": [],
   "source": [
    "def is_divisble(num1,num2):# defining the function\n",
    "    if num2 != 0: # checks is second number equals 0\n",
    "        if num1%num2 ==0: #cheks if number divisible\n",
    "            return True \n",
    "        else: \n",
    "            return False\n",
    "# a test call\n",
    "is_divisble(25,5)"
   ]
  },
  {
   "cell_type": "markdown",
   "metadata": {},
   "source": [
    "### write a function to find the maximum and minimum numbers from a sequence of numbers."
   ]
  },
  {
   "cell_type": "code",
   "execution_count": null,
   "metadata": {},
   "outputs": [],
   "source": [
    "def max_min(liste): # defining the function\n",
    "    maxi = max(liste) # using max function to get maximum value in list\n",
    "    mini = min(liste) # using min function to get minimum value in list\n",
    "    return maxi , mini # return the two values\n",
    "#testing function\n",
    "x=[3,6,9,1,7,0,64,5,83,196,12]  #testing list\n",
    "maxnum , minnum =max_min(x) #calling to get values from function\n",
    "print('max ',maxnum,'\\nmin ', minnum) "
   ]
  },
  {
   "cell_type": "markdown",
   "metadata": {},
   "source": [
    "### Write a Python function that takes two lists and returns True if they have at least one common member."
   ]
  },
  {
   "cell_type": "code",
   "execution_count": null,
   "metadata": {},
   "outputs": [],
   "source": [
    "def lit_eq(list1,list2):  # defining the function that takes two lists\n",
    "    for i in list1 : # using two loops to cheks all data  \n",
    "        for l in list2 :\n",
    "            if list1[i]==list2[l] : # an if to check two numbers\n",
    "                return True\n",
    "# testing function\n",
    "x=[3,6,9,1,7,0,64,5,83,196,12]  \n",
    "y=[5,6,4,8,158,498,1,8456,945,1,52] \n",
    "lit_eq(x,y) # calling function"
   ]
  },
  {
   "cell_type": "markdown",
   "metadata": {},
   "source": [
    "### Write a Python function to calculate the factorial of a number (a non-negative integer). The function accepts the number from the user"
   ]
  },
  {
   "cell_type": "code",
   "execution_count": null,
   "metadata": {},
   "outputs": [],
   "source": [
    "def fact(num):\n",
    "    if num ==1 or x ==0:\n",
    "        return 1\n",
    "    elif num <= 0:\n",
    "        print('Error!! only postive numbers' )\n",
    "    else:\n",
    "        return num * fact(num-1)\n",
    "    \n",
    "x=int(input('enter number to get it\\'s factorial'))\n",
    "print('answer is ', fact(x))\n"
   ]
  },
  {
   "cell_type": "markdown",
   "metadata": {},
   "source": [
    "### Write a Python function to check whether a number is in a given range.\n",
    "\n",
    "### The range is from 3 to 11\n"
   ]
  },
  {
   "cell_type": "code",
   "execution_count": null,
   "metadata": {},
   "outputs": [],
   "source": [
    "def rangecheck(num): # defining the function\n",
    "    return num in range(3,12) # using in to check if number in range or not\n",
    "\n",
    "check= lambda i: (i in range(3,12)) # using a lambda function to check number\n",
    "\n",
    "#testing the two functions\n",
    "x=int(input('enter number')) \n",
    "print(check(x))\n",
    "print(rangecheck(x))"
   ]
  },
  {
   "cell_type": "markdown",
   "metadata": {},
   "source": [
    "### Write a  program to create the multiplication table (from 1 to 10) of a number."
   ]
  },
  {
   "cell_type": "code",
   "execution_count": null,
   "metadata": {},
   "outputs": [],
   "source": [
    "def multable10(num): # function to print a number  multiplication table\n",
    "    for i in range(1,11):\n",
    "        print(num,'*',i,'=',num*i)\n",
    "        \n",
    "    print('--------------')\n",
    "    \n",
    "def rangemul(start,end): # function to print multiplication table for givin range of numbers\n",
    "    for i in range(start,end+1): \n",
    "        multable10(i)\n",
    "        \n",
    "rangemul(1,5)"
   ]
  },
  {
   "cell_type": "markdown",
   "metadata": {},
   "source": [
    "#### LESSER OF TWO EVENS: Write a function that returns the lesser of two given numbers *if* both numbers are even, but returns the greater if one or both numbers are odd\n",
    "    lesser_of_two_evens(2,4) --> 2\n",
    "    lesser_of_two_evens(2,5) --> 5"
   ]
  },
  {
   "cell_type": "code",
   "execution_count": 15,
   "metadata": {},
   "outputs": [
    {
     "name": "stdout",
     "output_type": "stream",
     "text": [
      "enter two number to combare 2 8\n"
     ]
    },
    {
     "data": {
      "text/plain": [
       "2"
      ]
     },
     "execution_count": 15,
     "metadata": {},
     "output_type": "execute_result"
    }
   ],
   "source": [
    "def lesser_of_two_evens(num1,num2): # defining the function \n",
    "\n",
    "    if num1%2 !=0 or num2%2 !=0 : #checks if any of two number is odd\n",
    "            #comare to get the greater number\n",
    "            if num1 < num2 :\n",
    "                return num2\n",
    "            \n",
    "            elif num2 < num1:\n",
    "                return num1\n",
    "        \n",
    "            elif num2==num1:\n",
    "                return num1,num2\n",
    "        \n",
    "    elif num1%2 ==0 and num2%2 ==0 : #checks if the two number is even\n",
    "        #comare to get the lesser number\n",
    "        if num1 > num2 :\n",
    "            return num2\n",
    "        \n",
    "        elif num2 >num1:\n",
    "            return num1\n",
    "        \n",
    "        elif num2 ==num1:\n",
    "            return num1,num2\n",
    "        \n",
    "    \n",
    "# geting two number then call function to combare them\n",
    "x,y =input('enter two number to combare ').split(' ')\n",
    "x=int(x)\n",
    "y=int(y)\n",
    "lesser_of_two_evens(x,y)   \n"
   ]
  },
  {
   "cell_type": "code",
   "execution_count": null,
   "metadata": {},
   "outputs": [],
   "source": []
  }
 ],
 "metadata": {
  "kernelspec": {
   "display_name": "Python 3 (ipykernel)",
   "language": "python",
   "name": "python3"
  },
  "language_info": {
   "codemirror_mode": {
    "name": "ipython",
    "version": 3
   },
   "file_extension": ".py",
   "mimetype": "text/x-python",
   "name": "python",
   "nbconvert_exporter": "python",
   "pygments_lexer": "ipython3",
   "version": "3.9.12"
  }
 },
 "nbformat": 4,
 "nbformat_minor": 2
}
