{
 "cells": [
  {
   "cell_type": "code",
   "execution_count": 1,
   "id": "dc4abb77",
   "metadata": {},
   "outputs": [
    {
     "name": "stdout",
     "output_type": "stream",
     "text": [
      "<__main__.String object at 0x000001D8243263D0>\n"
     ]
    }
   ],
   "source": [
    "\n",
    "# declare our own string class\n",
    "class String:\n",
    "      \n",
    "    # magic method to initiate object\n",
    "    def __init__(self, string):\n",
    "        self.string = string\n",
    "          \n",
    "# Driver Code\n",
    "if __name__ == '__main__':\n",
    "      \n",
    "    # object creation\n",
    "    string1 = String('Hello')\n",
    "  \n",
    "# print object location\n",
    "    print(string1)"
   ]
  },
  {
   "cell_type": "code",
   "execution_count": 2,
   "id": "9ae2cd24",
   "metadata": {},
   "outputs": [
    {
     "name": "stdout",
     "output_type": "stream",
     "text": [
      "Cleanup done!\n"
     ]
    }
   ],
   "source": [
    "import os #imports libarrary\n",
    "\n",
    "class Test: # declare class\n",
    "    def __init__(self): # magic method to initiate object\n",
    "        f = open(\"temp.csv\", \"w\") # opining a file in a writr mode\n",
    "        f.write(\"data,more data,testing\") # writing in file\n",
    "        f.close() # closeing file\n",
    "    def __del__(self): # magic method to delet file\n",
    "        os.remove('temp.csv') # deleiting file \n",
    "        print(\"Cleanup done!\") # printing that deleitng in done\n",
    "\n",
    "firstItem = Test()\n",
    "\n",
    "del firstItem"
   ]
  },
  {
   "cell_type": "code",
   "execution_count": 7,
   "id": "cc2d7f0b",
   "metadata": {},
   "outputs": [
    {
     "name": "stdout",
     "output_type": "stream",
     "text": [
      "__new__ magic method is called\n",
      "__init__ magic method is called\n"
     ]
    }
   ],
   "source": [
    "class Employee: # declare class\n",
    "    def __new__(cls): # using __new__ method\n",
    "        print (\"__new__ magic method is called\") \n",
    "        inst = object.__new__(cls) # using new method to ceat object\n",
    "        return inst \n",
    "    def __init__(self):\n",
    "        print (\"__init__ magic method is called\")\n",
    "        self.name='Satya'\n",
    "        \n",
    "firstemp = Employee()"
   ]
  },
  {
   "cell_type": "code",
   "execution_count": 9,
   "id": "116f29f3",
   "metadata": {},
   "outputs": [],
   "source": [
    "class Employee: # declare class\n",
    "    def __init__(self): # magic method to initiate object\n",
    "        self.name='Swati'\n",
    "        self.salary=10000\n",
    "    def __str__(self): # magic method to to return string from class\n",
    "        return 'name='+self.name+' salary=$'+str(self.salary)\n",
    "            \n",
    "firstemp = Employee()"
   ]
  },
  {
   "cell_type": "code",
   "execution_count": 10,
   "id": "fa29591f",
   "metadata": {},
   "outputs": [],
   "source": [
    "class distance: # declare class\n",
    "    def __init__(self, x=None,y=None): # magic method to initiate object\n",
    "        self.ft=x\n",
    "        self.inch=y\n",
    "    def __add__(self,x): # magic method to add attributes\n",
    "        temp=distance()\n",
    "        temp.ft=self.ft+x.ft\n",
    "        temp.inch=self.inch+x.inch\n",
    "        if temp.inch>=12:\n",
    "            temp.ft+=1\n",
    "            temp.inch-=12\n",
    "            return temp\n",
    "    def __str__(self): # magic method to to return string from class\n",
    "        return 'ft:'+str(self.ft)+' in: '+str(self.inch)"
   ]
  },
  {
   "cell_type": "code",
   "execution_count": 11,
   "id": "6ea66278",
   "metadata": {},
   "outputs": [],
   "source": [
    "class distance:\n",
    "    def __init__(self, x=None,y=None):\n",
    "        self.ft=x\n",
    "        self.inch=y\n",
    "    def __ge__(self, x):\n",
    "        val1=self.ft*12+self.inch\n",
    "        val2=x.ft*12+x.inch\n",
    "        if val1>=val2:\n",
    "            return True\n",
    "        else:\n",
    "            return False"
   ]
  },
  {
   "cell_type": "code",
   "execution_count": 12,
   "id": "47e2a48b",
   "metadata": {},
   "outputs": [
    {
     "name": "stdout",
     "output_type": "stream",
     "text": [
      "Hello\n",
      "Welcome\n",
      "to\n",
      "arg\n",
      "function\n"
     ]
    }
   ],
   "source": [
    "def myFun(*argv):\n",
    "    for arg in argv:\n",
    "        print(arg)\n",
    "  \n",
    "  \n",
    "myFun('Hello', 'Welcome', 'to', 'arg','function')"
   ]
  },
  {
   "cell_type": "code",
   "execution_count": 13,
   "id": "55ade7e3",
   "metadata": {},
   "outputs": [
    {
     "name": "stdout",
     "output_type": "stream",
     "text": [
      "a - 24\n",
      "b - 87\n",
      "c - 3\n",
      "d - 46\n"
     ]
    }
   ],
   "source": [
    "def myFunction(**kwargs):\n",
    "    for kw in kwargs:\n",
    "        print(kw, '-', kwargs[kw])\n",
    "\n",
    "if __name__ == \"__main__\":\n",
    "    myFunction(a = 24, b = 87, c = 3, d = 46)"
   ]
  },
  {
   "cell_type": "code",
   "execution_count": 14,
   "id": "b8d8e3f6",
   "metadata": {},
   "outputs": [
    {
     "name": "stdout",
     "output_type": "stream",
     "text": [
      "The mileage is 30kmph\n",
      "The mileage is 27kmph \n",
      "The mileage is 25kmph \n",
      "The mileage is 24kmph \n"
     ]
    }
   ],
   "source": [
    "# Python program demonstrate  \n",
    "# abstract base class work   \n",
    "from abc import ABC, abstractmethod   \n",
    "class Car(ABC):   \n",
    "    def mileage(self):   \n",
    "        pass  \n",
    "  \n",
    "class Tesla(Car):   \n",
    "    def mileage(self):   \n",
    "        print(\"The mileage is 30kmph\")   \n",
    "class Suzuki(Car):   \n",
    "    def mileage(self):   \n",
    "        print(\"The mileage is 25kmph \")   \n",
    "class Duster(Car):   \n",
    "     def mileage(self):   \n",
    "          print(\"The mileage is 24kmph \")   \n",
    "  \n",
    "class Renault(Car):   \n",
    "    def mileage(self):   \n",
    "            print(\"The mileage is 27kmph \")   \n",
    "          \n",
    "# Driver code   \n",
    "t= Tesla ()   \n",
    "t.mileage()   \n",
    "  \n",
    "r = Renault()   \n",
    "r.mileage()   \n",
    "  \n",
    "s = Suzuki()   \n",
    "s.mileage()   \n",
    "d = Duster()   \n",
    "d.mileage()  "
   ]
  },
  {
   "cell_type": "code",
   "execution_count": 15,
   "id": "31f3efae",
   "metadata": {},
   "outputs": [
    {
     "name": "stdout",
     "output_type": "stream",
     "text": [
      "Calling protected member of base class:  2\n",
      "Calling modified protected member outside class:  3\n",
      "Accessing protected member of obj1:  3\n",
      "Accessing protected member of obj2:  2\n"
     ]
    }
   ],
   "source": [
    "# Python program to\n",
    "# demonstrate protected members\n",
    " \n",
    "# Creating a base class\n",
    "class Base:\n",
    "    def __init__(self):\n",
    " \n",
    "        # Protected member\n",
    "        self._a = 2\n",
    " \n",
    "# Creating a derived class\n",
    "class Derived(Base):\n",
    "    def __init__(self):\n",
    " \n",
    "        # Calling constructor of\n",
    "        # Base class\n",
    "        Base.__init__(self)\n",
    "        print(\"Calling protected member of base class: \",\n",
    "              self._a)\n",
    " \n",
    "        # Modify the protected variable:\n",
    "        self._a = 3\n",
    "        print(\"Calling modified protected member outside class: \",\n",
    "              self._a)\n",
    " \n",
    " \n",
    "obj1 = Derived()\n",
    " \n",
    "obj2 = Base()\n",
    " \n",
    "# Calling protected member\n",
    "# Can be accessed but should not be done due to convention\n",
    "print(\"Accessing protected member of obj1: \", obj1._a)\n",
    " \n",
    "# Accessing the protected variable outside\n",
    "print(\"Accessing protected member of obj2: \", obj2._a)"
   ]
  },
  {
   "cell_type": "code",
   "execution_count": null,
   "id": "3665f6ec",
   "metadata": {},
   "outputs": [],
   "source": []
  }
 ],
 "metadata": {
  "kernelspec": {
   "display_name": "Python 3 (ipykernel)",
   "language": "python",
   "name": "python3"
  },
  "language_info": {
   "codemirror_mode": {
    "name": "ipython",
    "version": 3
   },
   "file_extension": ".py",
   "mimetype": "text/x-python",
   "name": "python",
   "nbconvert_exporter": "python",
   "pygments_lexer": "ipython3",
   "version": "3.9.12"
  }
 },
 "nbformat": 4,
 "nbformat_minor": 5
}
